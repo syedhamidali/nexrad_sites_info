{
 "cells": [
  {
   "cell_type": "markdown",
   "id": "be3d8559",
   "metadata": {},
   "source": [
    "# NEXRAD SITES WITH LAT/LON\n",
    "## Author: Hamid Ali Syed | [@hamidrixvi](https://twitter.com/hamidrixvi) | syed44@purdue.edu"
   ]
  },
  {
   "cell_type": "markdown",
   "id": "0aa32d75",
   "metadata": {},
   "source": [
    "### Import packages"
   ]
  },
  {
   "cell_type": "code",
   "execution_count": 1,
   "id": "bd8f60f1",
   "metadata": {},
   "outputs": [],
   "source": [
    "import warnings\n",
    "warnings.filterwarnings(\"ignore\")\n",
    "import datetime as dt\n",
    "import matplotlib.pyplot as plt\n",
    "import cartopy.crs as ccrs\n",
    "import numpy as np\n",
    "import pandas as pd\n",
    "import seaborn as sns\n",
    "import cartopy.crs as ccrs\n",
    "import cartopy.feature as feat\n",
    "from cartopy.mpl.gridliner import LONGITUDE_FORMATTER, LATITUDE_FORMATTER\n",
    "from mpl_toolkits.axes_grid1 import make_axes_locatable\n",
    "import matplotlib.patches as mpatches\n",
    "import plotly.graph_objects as go\n",
    "import glob\n",
    "import os"
   ]
  },
  {
   "cell_type": "markdown",
   "id": "f1c23a09",
   "metadata": {},
   "source": [
    "The add_Map() function is to add coastlines, land, ocean, and state boundaries to the axes."
   ]
  },
  {
   "cell_type": "code",
   "execution_count": 2,
   "id": "1604139b",
   "metadata": {},
   "outputs": [],
   "source": [
    "def add_Map(ax, b = 0, t=0, l = 0, r = 0):\n",
    "    gl = ax.gridlines(crs=ccrs.PlateCarree(), linewidth=0.3, color='black', alpha=0.3, \n",
    "                         linestyle='-', draw_labels=True)\n",
    "    gl.xlabels_top = t\n",
    "    gl.xlabels_bottom = b\n",
    "    gl.ylabels_left = l\n",
    "    gl.ylabels_right=r\n",
    "    gl.xlines = True\n",
    "    gl.ylines = True\n",
    "    gl.xformatter = LONGITUDE_FORMATTER\n",
    "    gl.yformatter = LATITUDE_FORMATTER\n",
    "    ax.add_feature(feat.BORDERS, lw = 0.5)\n",
    "    ax.add_feature(feat.LAND, lw = 0.3, fc = [0.9,0.9,0.9])\n",
    "    ax.add_feature(feat.COASTLINE, lw = 0.5)\n",
    "    ax.add_feature(feat.OCEAN, alpha = 0.5)\n",
    "    ax.add_feature(feat.STATES.with_scale(\"10m\"), alpha = 0.5, lw = 0.5)"
   ]
  },
  {
   "cell_type": "markdown",
   "id": "d56ff504",
   "metadata": {},
   "source": [
    "### Read NEXRAD data"
   ]
  },
  {
   "cell_type": "code",
   "execution_count": 3,
   "id": "2d7dfe8b",
   "metadata": {},
   "outputs": [],
   "source": [
    "df = pd.read_csv(\"nexrad_site_list.csv\")"
   ]
  },
  {
   "cell_type": "code",
   "execution_count": 4,
   "id": "25484052",
   "metadata": {
    "scrolled": true
   },
   "outputs": [
    {
     "data": {
      "text/html": [
       "<div>\n",
       "<style scoped>\n",
       "    .dataframe tbody tr th:only-of-type {\n",
       "        vertical-align: middle;\n",
       "    }\n",
       "\n",
       "    .dataframe tbody tr th {\n",
       "        vertical-align: top;\n",
       "    }\n",
       "\n",
       "    .dataframe thead th {\n",
       "        text-align: right;\n",
       "    }\n",
       "</style>\n",
       "<table border=\"1\" class=\"dataframe\">\n",
       "  <thead>\n",
       "    <tr style=\"text-align: right;\">\n",
       "      <th></th>\n",
       "      <th>ID</th>\n",
       "      <th>NAME</th>\n",
       "      <th>LAT</th>\n",
       "      <th>LON</th>\n",
       "    </tr>\n",
       "  </thead>\n",
       "  <tbody>\n",
       "    <tr>\n",
       "      <th>0</th>\n",
       "      <td>KVNX</td>\n",
       "      <td>VANCE AFB</td>\n",
       "      <td>36.740617</td>\n",
       "      <td>-98.127717</td>\n",
       "    </tr>\n",
       "    <tr>\n",
       "      <th>1</th>\n",
       "      <td>PACG</td>\n",
       "      <td>SITKA</td>\n",
       "      <td>56.852778</td>\n",
       "      <td>-135.529167</td>\n",
       "    </tr>\n",
       "    <tr>\n",
       "      <th>2</th>\n",
       "      <td>PAEC</td>\n",
       "      <td>NOME</td>\n",
       "      <td>64.511389</td>\n",
       "      <td>-165.295000</td>\n",
       "    </tr>\n",
       "    <tr>\n",
       "      <th>3</th>\n",
       "      <td>TJUA</td>\n",
       "      <td>SAN JUAN</td>\n",
       "      <td>18.115667</td>\n",
       "      <td>-66.078167</td>\n",
       "    </tr>\n",
       "    <tr>\n",
       "      <th>4</th>\n",
       "      <td>TJRV</td>\n",
       "      <td>JOSE APONTE DE LA TORR</td>\n",
       "      <td>18.256000</td>\n",
       "      <td>-65.637000</td>\n",
       "    </tr>\n",
       "    <tr>\n",
       "      <th>...</th>\n",
       "      <td>...</td>\n",
       "      <td>...</td>\n",
       "      <td>...</td>\n",
       "      <td>...</td>\n",
       "    </tr>\n",
       "    <tr>\n",
       "      <th>207</th>\n",
       "      <td>KOHX</td>\n",
       "      <td>NASHVILLE</td>\n",
       "      <td>36.247222</td>\n",
       "      <td>-86.562500</td>\n",
       "    </tr>\n",
       "    <tr>\n",
       "      <th>208</th>\n",
       "      <td>KYUX</td>\n",
       "      <td>YUMA</td>\n",
       "      <td>32.495281</td>\n",
       "      <td>-114.656711</td>\n",
       "    </tr>\n",
       "    <tr>\n",
       "      <th>209</th>\n",
       "      <td>RKSG</td>\n",
       "      <td>CAMP HUMPHREYS</td>\n",
       "      <td>37.207569</td>\n",
       "      <td>127.285561</td>\n",
       "    </tr>\n",
       "    <tr>\n",
       "      <th>210</th>\n",
       "      <td>TFLL</td>\n",
       "      <td>FT LAUDERDALE</td>\n",
       "      <td>26.143056</td>\n",
       "      <td>-80.343889</td>\n",
       "    </tr>\n",
       "    <tr>\n",
       "      <th>211</th>\n",
       "      <td>KLGX</td>\n",
       "      <td>LANGLEY HILL NW WASHIN</td>\n",
       "      <td>47.116944</td>\n",
       "      <td>-124.106667</td>\n",
       "    </tr>\n",
       "  </tbody>\n",
       "</table>\n",
       "<p>212 rows × 4 columns</p>\n",
       "</div>"
      ],
      "text/plain": [
       "       ID                    NAME        LAT         LON\n",
       "0    KVNX               VANCE AFB  36.740617  -98.127717\n",
       "1    PACG                   SITKA  56.852778 -135.529167\n",
       "2    PAEC                    NOME  64.511389 -165.295000\n",
       "3    TJUA                SAN JUAN  18.115667  -66.078167\n",
       "4    TJRV  JOSE APONTE DE LA TORR  18.256000  -65.637000\n",
       "..    ...                     ...        ...         ...\n",
       "207  KOHX               NASHVILLE  36.247222  -86.562500\n",
       "208  KYUX                    YUMA  32.495281 -114.656711\n",
       "209  RKSG          CAMP HUMPHREYS  37.207569  127.285561\n",
       "210  TFLL           FT LAUDERDALE  26.143056  -80.343889\n",
       "211  KLGX  LANGLEY HILL NW WASHIN  47.116944 -124.106667\n",
       "\n",
       "[212 rows x 4 columns]"
      ]
     },
     "execution_count": 4,
     "metadata": {},
     "output_type": "execute_result"
    }
   ],
   "source": [
    "df"
   ]
  },
  {
   "cell_type": "markdown",
   "id": "126a3cdf",
   "metadata": {},
   "source": [
    "### Plotting the data"
   ]
  },
  {
   "cell_type": "code",
   "execution_count": 5,
   "id": "23cb76e0",
   "metadata": {},
   "outputs": [
    {
     "data": {
      "image/png": "[encoded data removed]",
      "text/plain": [
       "<Figure size 1000x600 with 1 Axes>"
      ]
     },
     "metadata": {},
     "output_type": "display_data"
    }
   ],
   "source": [
    "fig = plt.figure(figsize = [10,6])\n",
    "ax = plt.axes(projection = ccrs.PlateCarree((-91+-85)/2))\n",
    "# ax.set_global()\n",
    "ax.set_extent([-180, -60, 10, 60])\n",
    "sns.scatterplot(data=df, x = \"LON\", y = \"LAT\", ax=ax, transform=ccrs.PlateCarree())\n",
    "\n",
    "\n",
    "theta = np.linspace(0,359,10000)\n",
    "\n",
    "for lat,lon in zip(df[\"LAT\"],df['LON']):\n",
    "    ax.add_patch(mpatches.Circle(xy=[lon, lat],\n",
    "                                 radius=((200)*(np.pi/180)), # I have used 200 km here as random range\n",
    "                                 facecolor='none',\n",
    "                                 ec = \"k\",\n",
    "                                 lw = 1,\n",
    "                                 transform=ccrs.PlateCarree()))\n",
    "add_Map(ax, b = 1, l = 1)\n",
    "plt.show()"
   ]
  },
  {
   "cell_type": "markdown",
   "id": "cb28cfc4",
   "metadata": {},
   "source": [
    "### Let's try plotly"
   ]
  },
  {
   "cell_type": "code",
   "execution_count": 6,
   "id": "da18c5d1",
   "metadata": {
    "scrolled": false
   },
   "outputs": [
    {
     "data": {
      "application/vnd.plotly.v1+json": {
       "config": {
        "plotlyServerURL": "https://plot.ly"
       },
       "data": [
        {
         "hovertext": [
          [
           "VANCE AFB",
           "KVNX"
          ],
          [
           "SITKA",
           "PACG"
          ],
          [
           "NOME",
           "PAEC"
          ],
          [
           "SAN JUAN",
           "TJUA"
          ],
          [
           "JOSE APONTE DE LA TORR",
           "TJRV"
          ],
          [
           "COVINGTON",
           "TCVG"
          ],
          [
           "HOUSTON INTL",
           "TIAH"
          ],
          [
           "RALEIGH",
           "TRDU"
          ],
          [
           "WICHITA",
           "TICH"
          ],
          [
           "MIAMI",
           "KAMX"
          ],
          [
           "GAYLORD",
           "KAPX"
          ],
          [
           "BURLINGTON",
           "KCXX"
          ],
          [
           "FLAGSTAFF",
           "KFSX"
          ],
          [
           "PORTLAND",
           "KGYX"
          ],
          [
           "SAN JOAQUIN VALLEY",
           "KHNX"
          ],
          [
           "HUNTSVILLE",
           "KHTX"
          ],
          [
           "NASHVILLE",
           "TBNA"
          ],
          [
           "ST LOUIS",
           "TSTL"
          ],
          [
           "TAMPA",
           "TTPA"
          ],
          [
           "WASHINGTON DULLES",
           "TIAD"
          ],
          [
           "INDIANAPOLIS",
           "KIND"
          ],
          [
           "TULSA",
           "KINX"
          ],
          [
           "FT WAYNE",
           "KIWX"
          ],
          [
           "CHICAGO",
           "KLOT"
          ],
          [
           "MIDLAND ODESSA",
           "KMAF"
          ],
          [
           "COLUMBIA",
           "KCAE"
          ],
          [
           "NORFOLK RICH",
           "KAKQ"
          ],
          [
           "BEALE AFB",
           "KBBX"
          ],
          [
           "BINGHAMTON",
           "KBGM"
          ],
          [
           "BISMARCK",
           "KBIS"
          ],
          [
           "JACKSON BRANDON",
           "KDGX"
          ],
          [
           "EL PASO",
           "KEPZ"
          ],
          [
           "ALTUS AFB",
           "KFDR"
          ],
          [
           "DALLAS",
           "KFWS"
          ],
          [
           "GRAND JUNCTION",
           "KGJX"
          ],
          [
           "WICHITA",
           "KICT"
          ],
          [
           "LUBBOCK",
           "KLBB"
          ],
          [
           "ST LOUIS",
           "KLSX"
          ],
          [
           "LITTLE ROCK",
           "KLZK"
          ],
          [
           "MELBOURNE",
           "KMLB"
          ],
          [
           "SAN DIEGO",
           "KNKX"
          ],
          [
           "SAN ANGELO",
           "KSJT"
          ],
          [
           "ANCHORAGE",
           "PAHG"
          ],
          [
           "SIOUX FALLS",
           "KFSD"
          ],
          [
           "CHICAGO OHARE",
           "TORD"
          ],
          [
           "DENVER",
           "TDEN"
          ],
          [
           "DETROIT",
           "TDTW"
          ],
          [
           "MEMPHIS",
           "TMEM"
          ],
          [
           "SALT LAKE CITY",
           "TSLC"
          ],
          [
           "BOSTON",
           "KBOX"
          ],
          [
           "ROANOKE",
           "KFCX"
          ],
          [
           "FLAGSTAFF",
           "KFSX"
          ],
          [
           "FT CAMPBELL",
           "KHPX"
          ],
          [
           "CINCINNATI",
           "KILN"
          ],
          [
           "ROBINS AFB",
           "KJGX"
          ],
          [
           "WILMINGTON",
           "KLTX"
          ],
          [
           "MOREHEAD CITY",
           "KMHX"
          ],
          [
           "SALT LAKE CITY",
           "KMTX"
          ],
          [
           "MEMPHIS",
           "KNQA"
          ],
          [
           "RIVERTON",
           "KRIW"
          ],
          [
           "MEDFORD",
           "KMAX"
          ],
          [
           "GRAND FORKS",
           "KMVX"
          ],
          [
           "SPOKANE",
           "KOTX"
          ],
          [
           "RENO",
           "KRGX"
          ],
          [
           "LAJES AB",
           "LPLA"
          ],
          [
           "FT DRUM",
           "KTYX"
          ],
          [
           "MOODY AFB",
           "KVAX"
          ],
          [
           "BOSTON",
           "TBOS"
          ],
          [
           "BALTIMORE WASHINGTON",
           "TBWI"
          ],
          [
           "COLUMBUS",
           "TCMH"
          ],
          [
           "DALLAS FT WORTH",
           "TDFW"
          ],
          [
           "DAYTON",
           "TDAY"
          ],
          [
           "MIAMI",
           "TMIA"
          ],
          [
           "NYC JFK",
           "TJFK"
          ],
          [
           "PHOENIX",
           "TPHX"
          ],
          [
           "EVANSVILLE",
           "KVWX"
          ],
          [
           "LA CROSSE",
           "KARX"
          ],
          [
           "DULUTH",
           "KDLH"
          ],
          [
           "KANSAS CITY",
           "KEAX"
          ],
          [
           "GRAND RAPIDS",
           "KGRR"
          ],
          [
           "PHOENIX",
           "KIWA"
          ],
          [
           "NYC",
           "KOKX"
          ],
          [
           "PENDLETON",
           "KPDT"
          ],
          [
           "CHARLESTON",
           "KRLX"
          ],
          [
           "SHREVEPORT",
           "KSHV"
          ],
          [
           "HASTINGS",
           "KUEX"
          ],
          [
           "LOS ANGELES",
           "KVTX"
          ],
          [
           "KAMUELA",
           "PHKM"
          ],
          [
           "S SHORE",
           "PHWA"
          ],
          [
           "SAN JUAN",
           "TJUA"
          ],
          [
           "KADENA",
           "RODN"
          ],
          [
           "RAFAEL HERNANDEZ AP",
           "TJBQ"
          ],
          [
           "MINNEAPOLIS",
           "TMSP"
          ],
          [
           "ORLANDO INTL",
           "TMCO"
          ],
          [
           "W PALM BEACH",
           "TPBI"
          ],
          [
           "ABERDEEN",
           "KABR"
          ],
          [
           "AMARILLO",
           "KAMA"
          ],
          [
           "CORPUS CHRISTI",
           "KCRP"
          ],
          [
           "DODGE CITY",
           "KDDC"
          ],
          [
           "LAUGHLIN AFB",
           "KDFX"
          ],
          [
           "GLASGOW",
           "KGGW"
          ],
          [
           "CEDAR CITY",
           "KICX"
          ],
          [
           "JACKSON",
           "KJKL"
          ],
          [
           "N PLATTE",
           "KLNX"
          ],
          [
           "KNOXVILLE",
           "KMRX"
          ],
          [
           "TAMPA",
           "KTBW"
          ],
          [
           "GREAT FALLS",
           "KTFX"
          ],
          [
           "OKLAHOMA CITY",
           "KTLX"
          ],
          [
           "ANDERSEN AFB AGANA",
           "PGUA"
          ],
          [
           "ATLANTA",
           "TATL"
          ],
          [
           "CHARLOTTE",
           "TCLT"
          ],
          [
           "CHICAGO MIDWAY",
           "TMDW"
          ],
          [
           "LOUISVILLE",
           "TSDF"
          ],
          [
           "MILWAUKEE",
           "TMKE"
          ],
          [
           "SAN JUAN",
           "TSJU"
          ],
          [
           "WASHINGTON NATL",
           "TDCA"
          ],
          [
           "ALBUQUERQUE",
           "KABX"
          ],
          [
           "MIAMI",
           "KAMX"
          ],
          [
           "SEATTLE",
           "KATX"
          ],
          [
           "BROWNSVILLE",
           "KBRO"
          ],
          [
           "CHEYENNE",
           "KCYS"
          ],
          [
           "SACRAMENTO",
           "KDAX"
          ],
          [
           "DYESS AFB",
           "KDYX"
          ],
          [
           "LAS VEGAS",
           "KESX"
          ],
          [
           "GREER",
           "KGSP"
          ],
          [
           "HOUSTON",
           "KHGX"
          ],
          [
           "MINOT AFB",
           "KMBX"
          ],
          [
           "PITTSBURGH",
           "KPBZ"
          ],
          [
           "RALEIGH DURHAM",
           "KRAX"
          ],
          [
           "SPRINGFIELD",
           "KSGF"
          ],
          [
           "HOLLOMAN AFB",
           "KHDX"
          ],
          [
           "FT SMITH",
           "KSRX"
          ],
          [
           "MIDDLETON IS",
           "PAIH"
          ],
          [
           "MOLOKAI",
           "PHMO"
          ],
          [
           "INDIANAPOLIS",
           "TIDS"
          ],
          [
           "KANSAS CITY",
           "TMCI"
          ],
          [
           "NEWARK",
           "TEWR"
          ],
          [
           "PHILA",
           "TPHL"
          ],
          [
           "NORMAN NSSL",
           "KOUN"
          ],
          [
           "STATE COLLEGE",
           "KCCX"
          ],
          [
           "BILLINGS",
           "KBLX"
          ],
          [
           "KEY W",
           "KBYX"
          ],
          [
           "CLEVELAND",
           "KCLE"
          ],
          [
           "CHARLESTON",
           "KCLX"
          ],
          [
           "DETROIT",
           "KDTX"
          ],
          [
           "DAVENPORT",
           "KDVN"
          ],
          [
           "TUCSON",
           "KEMX"
          ],
          [
           "FT RUCKER",
           "KEOX"
          ],
          [
           "EGLIN AFB",
           "KEVX"
          ],
          [
           "CANNON AFB",
           "KFDX"
          ],
          [
           "ATLANTA",
           "KFFC"
          ],
          [
           "DENVER FRONT RANGE AP",
           "KFTG"
          ],
          [
           "GREEN BAY",
           "KGRB"
          ],
          [
           "FT HOOD",
           "KGRK"
          ],
          [
           "COLUMBUS AFB",
           "KGWX"
          ],
          [
           "STERLING",
           "KLWX"
          ],
          [
           "SAN FRANCISCO",
           "KMUX"
          ],
          [
           "MAXWELL AFB",
           "KMXX"
          ],
          [
           "OMAHA",
           "KOAX"
          ],
          [
           "TOPEKA",
           "KTWX"
          ],
          [
           "BETHEL FAA",
           "PABC"
          ],
          [
           "S KAUAI",
           "PHKI"
          ],
          [
           "EUREKA",
           "KBHX"
          ],
          [
           "BUFFALO",
           "KBUF"
          ],
          [
           "BOISE",
           "KCBX"
          ],
          [
           "DES MOINES",
           "KDMX"
          ],
          [
           "ALBANY",
           "KENX"
          ],
          [
           "AUSTIN SAN ANTONIO",
           "KEWX"
          ],
          [
           "GOODLAND",
           "KGLD"
          ],
          [
           "ELKO",
           "KLRX"
          ],
          [
           "LOUISVILLE",
           "KLVX"
          ],
          [
           "MOBILE",
           "KMOB"
          ],
          [
           "MINNEAPOLIS",
           "KMPX"
          ],
          [
           "MISSOULA",
           "KMSX"
          ],
          [
           "PADUCAH",
           "KPAH"
          ],
          [
           "SANTA ANA MOUNTAINS",
           "KSOX"
          ],
          [
           "RAPID CITY",
           "KUDX"
          ],
          [
           "VANDENBERG AFB",
           "KVBX"
          ],
          [
           "MIDDLETON IS",
           "PAIH"
          ],
          [
           "KING SALMON",
           "PAKC"
          ],
          [
           "FAIRBANKS",
           "PAPD"
          ],
          [
           "ANDREWS AFB",
           "TADW"
          ],
          [
           "CLEVELAND",
           "TLVE"
          ],
          [
           "DALLAS LOVE FLD",
           "TDAL"
          ],
          [
           "NEW ORLEANS",
           "TMSY"
          ],
          [
           "NORMAN WFO",
           "TOKC"
          ],
          [
           "PITTSBURGH",
           "TPIT"
          ],
          [
           "TULSA",
           "TTUL"
          ],
          [
           "NEW ORLEANS",
           "KLIX"
          ],
          [
           "FT POLK",
           "KPOE"
          ],
          [
           "KUNSAN",
           "RKJK"
          ],
          [
           "LAS VEGAS",
           "TLAS"
          ],
          [
           "DOVER AFB",
           "KDOX"
          ],
          [
           "LINCOLN",
           "KILX"
          ],
          [
           "MARQUETTE",
           "KMQT"
          ],
          [
           "PORTLAND",
           "KRTX"
          ],
          [
           "TALLAHASSEE",
           "KTLH"
          ],
          [
           "JACKSONVILLE",
           "KJAX"
          ],
          [
           "PUEBLO",
           "KPUX"
          ],
          [
           "EDWARDS",
           "KEYX"
          ],
          [
           "HOUSTON HOBBY",
           "THOU"
          ],
          [
           "HOULTON",
           "KCBW"
          ],
          [
           "BIRMINGHAM",
           "KBMX"
          ],
          [
           "PHILA",
           "KDIX"
          ],
          [
           "LAKE CHARLES",
           "KLCH"
          ],
          [
           "POCATELLO",
           "KSFX"
          ],
          [
           "MILWAUKEE",
           "KMKX"
          ],
          [
           "NASHVILLE",
           "KOHX"
          ],
          [
           "YUMA",
           "KYUX"
          ],
          [
           "CAMP HUMPHREYS",
           "RKSG"
          ],
          [
           "FT LAUDERDALE",
           "TFLL"
          ],
          [
           "LANGLEY HILL NW WASHIN",
           "KLGX"
          ]
         ],
         "lat": [
          36.740617,
          56.852778,
          64.511389,
          18.115667,
          18.256,
          38.898056,
          30.065,
          36.001944,
          37.506944,
          25.611083,
          44.90635,
          44.511,
          34.574333,
          43.891306,
          36.314181,
          34.930556,
          35.98,
          38.805,
          27.86,
          39.083889,
          39.7075,
          36.175131,
          41.358611,
          41.604444,
          31.943461,
          33.948722,
          36.98405,
          39.495639,
          42.199694,
          46.770833,
          32.279944,
          31.873056,
          34.362194,
          32.573,
          39.062169,
          37.654444,
          33.654139,
          38.698611,
          34.8365,
          28.113194,
          32.919017,
          31.371278,
          60.725914,
          43.587778,
          41.796944,
          39.728056,
          42.111111,
          34.896111,
          40.966944,
          41.955778,
          37.0244,
          34.574333,
          36.736972,
          39.420483,
          32.675683,
          33.98915,
          34.775908,
          41.262778,
          35.344722,
          43.066089,
          42.081169,
          47.527778,
          47.680417,
          39.754056,
          38.73028,
          43.755694,
          30.890278,
          42.158056,
          39.09,
          40.006111,
          33.065,
          40.021944,
          25.758056,
          40.588889,
          33.421111,
          38.26025,
          43.822778,
          46.83694400000001,
          38.81025,
          42.893889,
          33.289233,
          40.865528,
          45.69065,
          38.311111,
          32.450833,
          40.320833,
          34.412017,
          20.125278,
          19.095,
          18.115667,
          26.3078,
          18.485,
          44.871111,
          28.343889,
          26.688056,
          45.455833,
          35.233333,
          27.784017,
          37.760833,
          29.273139,
          48.206361,
          37.59105,
          37.590833,
          41.957944,
          36.168611,
          27.7055,
          47.45958299999999,
          35.333361,
          13.455833,
          33.646944,
          35.336944,
          41.651111,
          38.046111,
          42.818889,
          18.473889,
          38.758889,
          35.149722,
          25.611083,
          48.19461100000001,
          25.916,
          41.151919,
          38.501111,
          32.5385,
          35.70135,
          34.883306,
          29.4719,
          48.393056,
          40.531717,
          35.665519,
          37.235239,
          33.077,
          35.290417,
          59.460767,
          21.132778,
          39.636944,
          39.498056,
          40.593056,
          39.948889,
          35.236058,
          40.923167,
          45.853778,
          24.5975,
          41.413217,
          32.655528,
          42.7,
          41.611667,
          31.89365,
          31.460556,
          30.565033,
          34.634167,
          33.36355,
          39.786639,
          44.498633,
          30.721833,
          33.896917,
          38.976111,
          37.155222,
          32.53665,
          41.320369,
          38.99695,
          60.791944,
          21.893889,
          40.498583,
          42.948789,
          43.490217,
          41.7312,
          42.586556,
          29.704056,
          39.366944,
          40.73955,
          37.975278,
          30.679444,
          44.848889,
          47.041,
          37.068333,
          33.817733,
          44.124722,
          34.83855,
          59.460767,
          58.67944399999999,
          65.035114,
          38.695,
          41.29,
          32.926111,
          30.021944,
          35.276111,
          40.501111,
          36.071111,
          30.336667,
          31.155278,
          35.924167,
          36.143889,
          38.825767,
          40.1505,
          46.531111,
          45.715039,
          30.397583,
          30.484633,
          38.45955,
          35.09785,
          29.516111,
          46.03925,
          33.172417,
          39.947089,
          30.125306,
          43.1056,
          42.9679,
          36.247222,
          32.495281,
          37.207569,
          26.143056,
          47.11694399999999
         ],
         "lon": [
          -98.127717,
          -135.529167,
          -165.295,
          -66.078167,
          -65.637,
          -84.58,
          -95.566944,
          -78.696944,
          -97.436944,
          -80.412667,
          -84.719533,
          -73.166431,
          -111.198444,
          -70.256361,
          -119.632139,
          -86.083611,
          -86.661944,
          -90.488889,
          -82.518056,
          -77.528889,
          -86.280278,
          -95.564161,
          -85.7,
          -88.084444,
          -102.18925,
          -81.118278,
          -77.007361,
          -121.631611,
          -75.984722,
          -100.760556,
          -89.984444,
          -106.698,
          -98.976667,
          -97.30315,
          -108.213761,
          -97.443056,
          -101.814167,
          -90.682778,
          -92.262194,
          -80.654083,
          -117.0418,
          -100.4925,
          -151.351467,
          -96.729444,
          -87.858056,
          -104.52611,
          -83.515,
          -89.993056,
          -111.93,
          -71.136861,
          -80.273969,
          -111.198444,
          -87.285583,
          -83.82145,
          -83.350833,
          -78.429108,
          -76.876189,
          -112.447778,
          -89.873333,
          -108.4773,
          -122.717369,
          -97.325556,
          -117.626778,
          -119.462028,
          -27.32167,
          -75.679861,
          -83.001806,
          -70.933056,
          -76.63,
          -82.715,
          -96.91805600000002,
          -84.123056,
          -80.491111,
          -73.881111,
          -112.16305,
          -87.724528,
          -91.191111,
          -92.209722,
          -94.264472,
          -85.544889,
          -111.669917,
          -72.863917,
          -118.852931,
          -81.722778,
          -93.84125,
          -98.441944,
          -119.17875,
          -155.777778,
          -155.568889,
          -66.078167,
          127.903469,
          -67.143,
          -92.933056,
          -81.326111,
          -80.273056,
          -98.413333,
          -101.709278,
          -97.51125,
          -99.968889,
          -100.280333,
          -106.624694,
          -112.862183,
          -83.313056,
          -100.576222,
          -83.401944,
          -82.401778,
          -111.385333,
          -97.277761,
          144.811111,
          -84.261944,
          -80.885,
          -87.73,
          -85.61,
          -88.046111,
          -66.178889,
          -76.961944,
          -106.823889,
          -80.412667,
          -122.495694,
          -97.418967,
          -104.806031,
          -121.677833,
          -99.254333,
          -114.89165,
          -82.219833,
          -95.078733,
          -100.864444,
          -80.217967,
          -78.48975,
          -93.400419,
          -106.120033,
          -94.361889,
          -146.303447,
          -157.180278,
          -86.436111,
          -94.74194400000002,
          -74.27,
          -75.068889,
          -97.46235,
          -78.003722,
          -108.606806,
          -81.703167,
          -81.859867,
          -81.042194,
          -83.471667,
          -90.580833,
          -110.63025,
          -85.459389,
          -85.921667,
          -103.618889,
          -84.56595,
          -104.545806,
          -88.111111,
          -97.382944,
          -88.329194,
          -77.4875,
          -121.898444,
          -85.78975,
          -96.366819,
          -96.23255,
          -161.876389,
          -159.5525,
          -124.292167,
          -78.736781,
          -116.236033,
          -93.722869,
          -74.064083,
          -98.02861099999998,
          -101.700278,
          -116.8027,
          -85.943889,
          -88.24,
          -93.565528,
          -113.986222,
          -88.771944,
          -117.636,
          -102.83,
          -120.397917,
          -146.303447,
          -156.629444,
          -147.501431,
          -76.845,
          -82.008056,
          -96.968056,
          -90.403056,
          -97.51,
          -80.486111,
          -95.826944,
          -89.825417,
          -92.976111,
          126.622222,
          -115.00694,
          -75.440117,
          -89.336792,
          -87.548333,
          -122.965,
          -84.328944,
          -81.7019,
          -104.18135,
          -117.56075,
          -95.24194400000002,
          -67.806431,
          -86.770167,
          -74.410731,
          -93.21588900000002,
          -112.686133,
          -88.550667,
          -86.5625,
          -114.656711,
          127.285561,
          -80.343889,
          -124.106667
         ],
         "marker": {
          "color": "rgba(0,0,0,0)",
          "line": {
           "color": "MediumPurple",
           "width": 2
          },
          "opacity": 0.5,
          "size": 50
         },
         "mode": "markers",
         "text": [
          "KVNX",
          "PACG",
          "PAEC",
          "TJUA",
          "TJRV",
          "TCVG",
          "TIAH",
          "TRDU",
          "TICH",
          "KAMX",
          "KAPX",
          "KCXX",
          "KFSX",
          "KGYX",
          "KHNX",
          "KHTX",
          "TBNA",
          "TSTL",
          "TTPA",
          "TIAD",
          "KIND",
          "KINX",
          "KIWX",
          "KLOT",
          "KMAF",
          "KCAE",
          "KAKQ",
          "KBBX",
          "KBGM",
          "KBIS",
          "KDGX",
          "KEPZ",
          "KFDR",
          "KFWS",
          "KGJX",
          "KICT",
          "KLBB",
          "KLSX",
          "KLZK",
          "KMLB",
          "KNKX",
          "KSJT",
          "PAHG",
          "KFSD",
          "TORD",
          "TDEN",
          "TDTW",
          "TMEM",
          "TSLC",
          "KBOX",
          "KFCX",
          "KFSX",
          "KHPX",
          "KILN",
          "KJGX",
          "KLTX",
          "KMHX",
          "KMTX",
          "KNQA",
          "KRIW",
          "KMAX",
          "KMVX",
          "KOTX",
          "KRGX",
          "LPLA",
          "KTYX",
          "KVAX",
          "TBOS",
          "TBWI",
          "TCMH",
          "TDFW",
          "TDAY",
          "TMIA",
          "TJFK",
          "TPHX",
          "KVWX",
          "KARX",
          "KDLH",
          "KEAX",
          "KGRR",
          "KIWA",
          "KOKX",
          "KPDT",
          "KRLX",
          "KSHV",
          "KUEX",
          "KVTX",
          "PHKM",
          "PHWA",
          "TJUA",
          "RODN",
          "TJBQ",
          "TMSP",
          "TMCO",
          "TPBI",
          "KABR",
          "KAMA",
          "KCRP",
          "KDDC",
          "KDFX",
          "KGGW",
          "KICX",
          "KJKL",
          "KLNX",
          "KMRX",
          "KTBW",
          "KTFX",
          "KTLX",
          "PGUA",
          "TATL",
          "TCLT",
          "TMDW",
          "TSDF",
          "TMKE",
          "TSJU",
          "TDCA",
          "KABX",
          "KAMX",
          "KATX",
          "KBRO",
          "KCYS",
          "KDAX",
          "KDYX",
          "KESX",
          "KGSP",
          "KHGX",
          "KMBX",
          "KPBZ",
          "KRAX",
          "KSGF",
          "KHDX",
          "KSRX",
          "PAIH",
          "PHMO",
          "TIDS",
          "TMCI",
          "TEWR",
          "TPHL",
          "KOUN",
          "KCCX",
          "KBLX",
          "KBYX",
          "KCLE",
          "KCLX",
          "KDTX",
          "KDVN",
          "KEMX",
          "KEOX",
          "KEVX",
          "KFDX",
          "KFFC",
          "KFTG",
          "KGRB",
          "KGRK",
          "KGWX",
          "KLWX",
          "KMUX",
          "KMXX",
          "KOAX",
          "KTWX",
          "PABC",
          "PHKI",
          "KBHX",
          "KBUF",
          "KCBX",
          "KDMX",
          "KENX",
          "KEWX",
          "KGLD",
          "KLRX",
          "KLVX",
          "KMOB",
          "KMPX",
          "KMSX",
          "KPAH",
          "KSOX",
          "KUDX",
          "KVBX",
          "PAIH",
          "PAKC",
          "PAPD",
          "TADW",
          "TLVE",
          "TDAL",
          "TMSY",
          "TOKC",
          "TPIT",
          "TTUL",
          "KLIX",
          "KPOE",
          "RKJK",
          "TLAS",
          "KDOX",
          "KILX",
          "KMQT",
          "KRTX",
          "KTLH",
          "KJAX",
          "KPUX",
          "KEYX",
          "THOU",
          "KCBW",
          "KBMX",
          "KDIX",
          "KLCH",
          "KSFX",
          "KMKX",
          "KOHX",
          "KYUX",
          "RKSG",
          "TFLL",
          "KLGX"
         ],
         "type": "scattergeo"
        }
       ],
       "layout": {
        "geo": {
         "countrycolor": "RebeccaPurple",
         "resolution": 50,
         "scope": "usa",
         "showcountries": true,
         "showsubunits": true,
         "subunitcolor": "Blue"
        },
        "mapbox": {
         "layers": [
          {
           "below": "traces",
           "source": [
            "https://basemap.nationalmap.gov/arcgis/rest/services/USGSImageryOnly/MapServer/tile/{z}/{y}/{x}"
           ],
           "sourceattribution": "United States Geological Survey",
           "sourcetype": "raster"
          }
         ],
         "style": "white-bg"
        },
        "template": {
         "data": {
          "bar": [
           {
            "error_x": {
             "color": "#2a3f5f"
            },
            "error_y": {
             "color": "#2a3f5f"
            },
            "marker": {
             "line": {
              "color": "#E5ECF6",
              "width": 0.5
             },
             "pattern": {
              "fillmode": "overlay",
              "size": 10,
              "solidity": 0.2
             }
            },
            "type": "bar"
           }
          ],
          "barpolar": [
           {
            "marker": {
             "line": {
              "color": "#E5ECF6",
              "width": 0.5
             },
             "pattern": {
              "fillmode": "overlay",
              "size": 10,
              "solidity": 0.2
             }
            },
            "type": "barpolar"
           }
          ],
          "carpet": [
           {
            "aaxis": {
             "endlinecolor": "#2a3f5f",
             "gridcolor": "white",
             "linecolor": "white",
             "minorgridcolor": "white",
             "startlinecolor": "#2a3f5f"
            },
            "baxis": {
             "endlinecolor": "#2a3f5f",
             "gridcolor": "white",
             "linecolor": "white",
             "minorgridcolor": "white",
             "startlinecolor": "#2a3f5f"
            },
            "type": "carpet"
           }
          ],
          "choropleth": [
           {
            "colorbar": {
             "outlinewidth": 0,
             "ticks": ""
            },
            "type": "choropleth"
           }
          ],
          "contour": [
           {
            "colorbar": {
             "outlinewidth": 0,
             "ticks": ""
            },
            "colorscale": [
             [
              0,
              "#0d0887"
             ],
             [
              0.1111111111111111,
              "#46039f"
             ],
             [
              0.2222222222222222,
              "#7201a8"
             ],
             [
              0.3333333333333333,
              "#9c179e"
             ],
             [
              0.4444444444444444,
              "#bd3786"
             ],
             [
              0.5555555555555556,
              "#d8576b"
             ],
             [
              0.6666666666666666,
              "#ed7953"
             ],
             [
              0.7777777777777778,
              "#fb9f3a"
             ],
             [
              0.8888888888888888,
              "#fdca26"
             ],
             [
              1,
              "#f0f921"
             ]
            ],
            "type": "contour"
           }
          ],
          "contourcarpet": [
           {
            "colorbar": {
             "outlinewidth": 0,
             "ticks": ""
            },
            "type": "contourcarpet"
           }
          ],
          "heatmap": [
           {
            "colorbar": {
             "outlinewidth": 0,
             "ticks": ""
            },
            "colorscale": [
             [
              0,
              "#0d0887"
             ],
             [
              0.1111111111111111,
              "#46039f"
             ],
             [
              0.2222222222222222,
              "#7201a8"
             ],
             [
              0.3333333333333333,
              "#9c179e"
             ],
             [
              0.4444444444444444,
              "#bd3786"
             ],
             [
              0.5555555555555556,
              "#d8576b"
             ],
             [
              0.6666666666666666,
              "#ed7953"
             ],
             [
              0.7777777777777778,
              "#fb9f3a"
             ],
             [
              0.8888888888888888,
              "#fdca26"
             ],
             [
              1,
              "#f0f921"
             ]
            ],
            "type": "heatmap"
           }
          ],
          "heatmapgl": [
           {
            "colorbar": {
             "outlinewidth": 0,
             "ticks": ""
            },
            "colorscale": [
             [
              0,
              "#0d0887"
             ],
             [
              0.1111111111111111,
              "#46039f"
             ],
             [
              0.2222222222222222,
              "#7201a8"
             ],
             [
              0.3333333333333333,
              "#9c179e"
             ],
             [
              0.4444444444444444,
              "#bd3786"
             ],
             [
              0.5555555555555556,
              "#d8576b"
             ],
             [
              0.6666666666666666,
              "#ed7953"
             ],
             [
              0.7777777777777778,
              "#fb9f3a"
             ],
             [
              0.8888888888888888,
              "#fdca26"
             ],
             [
              1,
              "#f0f921"
             ]
            ],
            "type": "heatmapgl"
           }
          ],
          "histogram": [
           {
            "marker": {
             "pattern": {
              "fillmode": "overlay",
              "size": 10,
              "solidity": 0.2
             }
            },
            "type": "histogram"
           }
          ],
          "histogram2d": [
           {
            "colorbar": {
             "outlinewidth": 0,
             "ticks": ""
            },
            "colorscale": [
             [
              0,
              "#0d0887"
             ],
             [
              0.1111111111111111,
              "#46039f"
             ],
             [
              0.2222222222222222,
              "#7201a8"
             ],
             [
              0.3333333333333333,
              "#9c179e"
             ],
             [
              0.4444444444444444,
              "#bd3786"
             ],
             [
              0.5555555555555556,
              "#d8576b"
             ],
             [
              0.6666666666666666,
              "#ed7953"
             ],
             [
              0.7777777777777778,
              "#fb9f3a"
             ],
             [
              0.8888888888888888,
              "#fdca26"
             ],
             [
              1,
              "#f0f921"
             ]
            ],
            "type": "histogram2d"
           }
          ],
          "histogram2dcontour": [
           {
            "colorbar": {
             "outlinewidth": 0,
             "ticks": ""
            },
            "colorscale": [
             [
              0,
              "#0d0887"
             ],
             [
              0.1111111111111111,
              "#46039f"
             ],
             [
              0.2222222222222222,
              "#7201a8"
             ],
             [
              0.3333333333333333,
              "#9c179e"
             ],
             [
              0.4444444444444444,
              "#bd3786"
             ],
             [
              0.5555555555555556,
              "#d8576b"
             ],
             [
              0.6666666666666666,
              "#ed7953"
             ],
             [
              0.7777777777777778,
              "#fb9f3a"
             ],
             [
              0.8888888888888888,
              "#fdca26"
             ],
             [
              1,
              "#f0f921"
             ]
            ],
            "type": "histogram2dcontour"
           }
          ],
          "mesh3d": [
           {
            "colorbar": {
             "outlinewidth": 0,
             "ticks": ""
            },
            "type": "mesh3d"
           }
          ],
          "parcoords": [
           {
            "line": {
             "colorbar": {
              "outlinewidth": 0,
              "ticks": ""
             }
            },
            "type": "parcoords"
           }
          ],
          "pie": [
           {
            "automargin": true,
            "type": "pie"
           }
          ],
          "scatter": [
           {
            "fillpattern": {
             "fillmode": "overlay",
             "size": 10,
             "solidity": 0.2
            },
            "type": "scatter"
           }
          ],
          "scatter3d": [
           {
            "line": {
             "colorbar": {
              "outlinewidth": 0,
              "ticks": ""
             }
            },
            "marker": {
             "colorbar": {
              "outlinewidth": 0,
              "ticks": ""
             }
            },
            "type": "scatter3d"
           }
          ],
          "scattercarpet": [
           {
            "marker": {
             "colorbar": {
              "outlinewidth": 0,
              "ticks": ""
             }
            },
            "type": "scattercarpet"
           }
          ],
          "scattergeo": [
           {
            "marker": {
             "colorbar": {
              "outlinewidth": 0,
              "ticks": ""
             }
            },
            "type": "scattergeo"
           }
          ],
          "scattergl": [
           {
            "marker": {
             "colorbar": {
              "outlinewidth": 0,
              "ticks": ""
             }
            },
            "type": "scattergl"
           }
          ],
          "scattermapbox": [
           {
            "marker": {
             "colorbar": {
              "outlinewidth": 0,
              "ticks": ""
             }
            },
            "type": "scattermapbox"
           }
          ],
          "scatterpolar": [
           {
            "marker": {
             "colorbar": {
              "outlinewidth": 0,
              "ticks": ""
             }
            },
            "type": "scatterpolar"
           }
          ],
          "scatterpolargl": [
           {
            "marker": {
             "colorbar": {
              "outlinewidth": 0,
              "ticks": ""
             }
            },
            "type": "scatterpolargl"
           }
          ],
          "scatterternary": [
           {
            "marker": {
             "colorbar": {
              "outlinewidth": 0,
              "ticks": ""
             }
            },
            "type": "scatterternary"
           }
          ],
          "surface": [
           {
            "colorbar": {
             "outlinewidth": 0,
             "ticks": ""
            },
            "colorscale": [
             [
              0,
              "#0d0887"
             ],
             [
              0.1111111111111111,
              "#46039f"
             ],
             [
              0.2222222222222222,
              "#7201a8"
             ],
             [
              0.3333333333333333,
              "#9c179e"
             ],
             [
              0.4444444444444444,
              "#bd3786"
             ],
             [
              0.5555555555555556,
              "#d8576b"
             ],
             [
              0.6666666666666666,
              "#ed7953"
             ],
             [
              0.7777777777777778,
              "#fb9f3a"
             ],
             [
              0.8888888888888888,
              "#fdca26"
             ],
             [
              1,
              "#f0f921"
             ]
            ],
            "type": "surface"
           }
          ],
          "table": [
           {
            "cells": {
             "fill": {
              "color": "#EBF0F8"
             },
             "line": {
              "color": "white"
             }
            },
            "header": {
             "fill": {
              "color": "#C8D4E3"
             },
             "line": {
              "color": "white"
             }
            },
            "type": "table"
           }
          ]
         },
         "layout": {
          "annotationdefaults": {
           "arrowcolor": "#2a3f5f",
           "arrowhead": 0,
           "arrowwidth": 1
          },
          "autotypenumbers": "strict",
          "coloraxis": {
           "colorbar": {
            "outlinewidth": 0,
            "ticks": ""
           }
          },
          "colorscale": {
           "diverging": [
            [
             0,
             "#8e0152"
            ],
            [
             0.1,
             "#c51b7d"
            ],
            [
             0.2,
             "#de77ae"
            ],
            [
             0.3,
             "#f1b6da"
            ],
            [
             0.4,
             "#fde0ef"
            ],
            [
             0.5,
             "#f7f7f7"
            ],
            [
             0.6,
             "#e6f5d0"
            ],
            [
             0.7,
             "#b8e186"
            ],
            [
             0.8,
             "#7fbc41"
            ],
            [
             0.9,
             "#4d9221"
            ],
            [
             1,
             "#276419"
            ]
           ],
           "sequential": [
            [
             0,
             "#0d0887"
            ],
            [
             0.1111111111111111,
             "#46039f"
            ],
            [
             0.2222222222222222,
             "#7201a8"
            ],
            [
             0.3333333333333333,
             "#9c179e"
            ],
            [
             0.4444444444444444,
             "#bd3786"
            ],
            [
             0.5555555555555556,
             "#d8576b"
            ],
            [
             0.6666666666666666,
             "#ed7953"
            ],
            [
             0.7777777777777778,
             "#fb9f3a"
            ],
            [
             0.8888888888888888,
             "#fdca26"
            ],
            [
             1,
             "#f0f921"
            ]
           ],
           "sequentialminus": [
            [
             0,
             "#0d0887"
            ],
            [
             0.1111111111111111,
             "#46039f"
            ],
            [
             0.2222222222222222,
             "#7201a8"
            ],
            [
             0.3333333333333333,
             "#9c179e"
            ],
            [
             0.4444444444444444,
             "#bd3786"
            ],
            [
             0.5555555555555556,
             "#d8576b"
            ],
            [
             0.6666666666666666,
             "#ed7953"
            ],
            [
             0.7777777777777778,
             "#fb9f3a"
            ],
            [
             0.8888888888888888,
             "#fdca26"
            ],
            [
             1,
             "#f0f921"
            ]
           ]
          },
          "colorway": [
           "#636efa",
           "#EF553B",
           "#00cc96",
           "#ab63fa",
           "#FFA15A",
           "#19d3f3",
           "#FF6692",
           "#B6E880",
           "#FF97FF",
           "#FECB52"
          ],
          "font": {
           "color": "#2a3f5f"
          },
          "geo": {
           "bgcolor": "white",
           "lakecolor": "white",
           "landcolor": "#E5ECF6",
           "showlakes": true,
           "showland": true,
           "subunitcolor": "white"
          },
          "hoverlabel": {
           "align": "left"
          },
          "hovermode": "closest",
          "mapbox": {
           "style": "light"
          },
          "paper_bgcolor": "white",
          "plot_bgcolor": "#E5ECF6",
          "polar": {
           "angularaxis": {
            "gridcolor": "white",
            "linecolor": "white",
            "ticks": ""
           },
           "bgcolor": "#E5ECF6",
           "radialaxis": {
            "gridcolor": "white",
            "linecolor": "white",
            "ticks": ""
           }
          },
          "scene": {
           "xaxis": {
            "backgroundcolor": "#E5ECF6",
            "gridcolor": "white",
            "gridwidth": 2,
            "linecolor": "white",
            "showbackground": true,
            "ticks": "",
            "zerolinecolor": "white"
           },
           "yaxis": {
            "backgroundcolor": "#E5ECF6",
            "gridcolor": "white",
            "gridwidth": 2,
            "linecolor": "white",
            "showbackground": true,
            "ticks": "",
            "zerolinecolor": "white"
           },
           "zaxis": {
            "backgroundcolor": "#E5ECF6",
            "gridcolor": "white",
            "gridwidth": 2,
            "linecolor": "white",
            "showbackground": true,
            "ticks": "",
            "zerolinecolor": "white"
           }
          },
          "shapedefaults": {
           "line": {
            "color": "#2a3f5f"
           }
          },
          "ternary": {
           "aaxis": {
            "gridcolor": "white",
            "linecolor": "white",
            "ticks": ""
           },
           "baxis": {
            "gridcolor": "white",
            "linecolor": "white",
            "ticks": ""
           },
           "bgcolor": "#E5ECF6",
           "caxis": {
            "gridcolor": "white",
            "linecolor": "white",
            "ticks": ""
           }
          },
          "title": {
           "x": 0.05
          },
          "xaxis": {
           "automargin": true,
           "gridcolor": "white",
           "linecolor": "white",
           "ticks": "",
           "title": {
            "standoff": 15
           },
           "zerolinecolor": "white",
           "zerolinewidth": 2
          },
          "yaxis": {
           "automargin": true,
           "gridcolor": "white",
           "linecolor": "white",
           "ticks": "",
           "title": {
            "standoff": 15
           },
           "zerolinecolor": "white",
           "zerolinewidth": 2
          }
         }
        },
        "title": {
         "text": "NEXRAD SITES (Hover to see Name & ID)"
        }
       }
      }
     },
     "metadata": {},
     "output_type": "display_data"
    }
   ],
   "source": [
    "fig = go.Figure(data=go.Scattergeo(\n",
    "    lon = df['LON'],\n",
    "    lat = df['LAT'],\n",
    "    text = df['ID'],\n",
    "    mode = 'markers',\n",
    "    hovertext=df[[\"NAME\", \"ID\"]],\n",
    "    marker=dict(\n",
    "        color='rgba(0,0,0,0)',\n",
    "            size=50,\n",
    "            opacity=0.5,\n",
    "            line=dict(\n",
    "                color='MediumPurple',\n",
    "                width=2,\n",
    "            )\n",
    "\n",
    ")))\n",
    "\n",
    "\n",
    "fig.update_geos(\n",
    "    resolution=50,\n",
    "    showcountries=True, countrycolor=\"RebeccaPurple\",\n",
    "    showsubunits=True, subunitcolor=\"Blue\"\n",
    "    )\n",
    "\n",
    "fig.update_layout(\n",
    "    title = 'NEXRAD SITES (Hover to see Name & ID)',\n",
    "    geo_scope='usa',\n",
    "    mapbox_style=\"white-bg\",\n",
    "    mapbox_layers=[\n",
    "        {\n",
    "            \"below\": 'traces',\n",
    "            \"sourcetype\": \"raster\",\n",
    "            \"sourceattribution\": \"United States Geological Survey\",\n",
    "            \"source\": [\n",
    "                \"https://basemap.nationalmap.gov/arcgis/rest/services/USGSImageryOnly/MapServer/tile/{z}/{y}/{x}\"\n",
    "            ]\n",
    "        }\n",
    "      ])\n",
    "# fig.update_layout(margin={\"r\":0,\"t\":40,\"l\":0,\"b\":0})\n",
    "fig.show()"
   ]
  },
  {
   "cell_type": "code",
   "execution_count": null,
   "id": "a57c0362",
   "metadata": {},
   "outputs": [],
   "source": []
  }
 ],
 "metadata": {
  "kernelspec": {
   "display_name": "Python 3.9.13 ('syed')",
   "language": "python",
   "name": "python3"
  },
  "language_info": {
   "codemirror_mode": {
    "name": "ipython",
    "version": 3
   },
   "file_extension": ".py",
   "mimetype": "text/x-python",
   "name": "python",
   "nbconvert_exporter": "python",
   "pygments_lexer": "ipython3",
   "version": "3.9.13"
  },
  "vscode": {
   "interpreter": {
    "hash": "d26487e48380878d1b9045cefa10dbc71372956beb246afe2d72fa95e27a5da4"
   }
  }
 },
 "nbformat": 4,
 "nbformat_minor": 5
}
